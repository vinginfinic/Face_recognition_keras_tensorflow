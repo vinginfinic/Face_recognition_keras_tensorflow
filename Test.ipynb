{
  "nbformat": 4,
  "nbformat_minor": 0,
  "metadata": {
    "colab": {
      "name": "Test.ipynb",
      "provenance": [],
      "mount_file_id": "1iQe6v-KgUkm35db4wuHyBBMztfS-Ex8W",
      "authorship_tag": "ABX9TyP1V95rw+0krxHMtweQ8//Y",
      "include_colab_link": true
    },
    "kernelspec": {
      "name": "python3",
      "display_name": "Python 3"
    }
  },
  "cells": [
    {
      "cell_type": "markdown",
      "metadata": {
        "id": "view-in-github",
        "colab_type": "text"
      },
      "source": [
        "<a href=\"https://colab.research.google.com/github/vinginfinic/Face_recognition_keras_tensorflow/blob/master/Test.ipynb\" target=\"_parent\"><img src=\"https://colab.research.google.com/assets/colab-badge.svg\" alt=\"Open In Colab\"/></a>"
      ]
    },
    {
      "cell_type": "code",
      "metadata": {
        "id": "WlJ2wP9WaExI",
        "outputId": "499853de-bfc4-4bef-f662-0b15ab70d4af",
        "colab": {
          "base_uri": "https://localhost:8080/",
          "height": 34
        }
      },
      "source": [
        "from google.colab import drive\n",
        "drive.mount('/content/drive/')"
      ],
      "execution_count": null,
      "outputs": [
        {
          "output_type": "stream",
          "text": [
            "Mounted at /content/drive/\n"
          ],
          "name": "stdout"
        }
      ]
    },
    {
      "cell_type": "code",
      "metadata": {
        "id": "uKCLOaKwbqRq"
      },
      "source": [
        "pip install -q keras"
      ],
      "execution_count": null,
      "outputs": []
    },
    {
      "cell_type": "code",
      "metadata": {
        "id": "yj580dpqb2Hg"
      },
      "source": [
        "import keras"
      ],
      "execution_count": null,
      "outputs": []
    },
    {
      "cell_type": "code",
      "metadata": {
        "id": "w72xNoXAcFJe",
        "outputId": "4e05d885-dbe0-4787-aca7-64581ea443cf",
        "colab": {
          "base_uri": "https://localhost:8080/",
          "height": 280
        }
      },
      "source": [
        "#Import Packages\n",
        "import os\n",
        "import numpy as np\n",
        "import glob\n",
        "import shutil\n",
        "import matplotlib.pyplot as plt\n",
        "import tensorflow as tf\n",
        "from tensorflow.keras.models import Sequential\n",
        "from tensorflow.keras.layers import Dense, Conv2D, Flatten, Dropout, MaxPooling2D\n",
        "from tensorflow.keras.preprocessing.image import ImageDataGenerator\n",
        "\n",
        "#Show the classes in the dataset\n",
        "base_dir = '/content/drive/My Drive/Colab Notebooks/Hachthon_Python/students'\n",
        "strClasses = os.listdir(base_dir)\n",
        "print(strClasses)\n",
        "\n",
        "#Load Datset, Show the path and number of images in each class\n",
        "for j in strClasses:\n",
        "    img_path = os.path.join(base_dir,j)   \n",
        "    imgDataset = glob.glob(img_path + '/*.jpg')\n",
        "    #print (j)\n",
        "    #print (imgDataset)\n",
        "    #print (len(imgDataset))\n",
        "    #plt.show(imgDataset)\n",
        "    #print ('(): () Images'.format(j,len(imgDataset)))\n",
        "    #Partition the dataset\n",
        "    numTrain = int(round(len(imgDataset)*0.8))\n",
        "    train = imgDataset[:numTrain]      \n",
        "    val = imgDataset[numTrain:]\n",
        "\n",
        "#Batch Size and Image Shape\n",
        "batchSize = 100\n",
        "imgShape = 150\n",
        "\n",
        "def plotImages(imgArray):\n",
        "    fig, axes = plt.subplots(1,5,figsize=(20,20))\n",
        "    axes = axes.flatten()\n",
        "    for img, ax in zip(imgArray, axes):\n",
        "        ax.imshow(img)\n",
        "    plt.tight_layout()\n",
        "    plt.show       \n",
        "\n",
        "imgGenTrain = ImageDataGenerator(\n",
        "                rotation_range=45,\n",
        "                width_shift_range=.15,\n",
        "                height_shift_range=.15,\n",
        "                horizontal_flip=True,\n",
        "                zoom_range = 0.5)\n",
        "    \n",
        "trainDataGen = imgGenTrain.flow_from_directory(\n",
        "                    '/content/drive/My Drive/Colab Notebooks/Hachthon_Python/students/',\n",
        "                    batch_size=batchSize,\n",
        "                    shuffle=True,\n",
        "                    target_size=(imgShape,imgShape),\n",
        "                    class_mode='categorical',\n",
        "                    save_to_dir='/content/drive/My Drive/Colab Notebooks/Hachthon_Python/Augmented_Images/')\n",
        "    \n",
        "augmentedImages = [trainDataGen[0][0][0] for i in range(5)]\n",
        "    \n",
        "plotImages(augmentedImages)"
      ],
      "execution_count": null,
      "outputs": [
        {
          "output_type": "stream",
          "text": [
            "['16CL021537', '16CL021535', '16CL021534', '16CL021532', '15CL03796', '16CL021533', '15CL03821', '15CL03810', '16CL021539', '16CL021538', '16CL021544', '16CL021547', '16CL021542', '16CL021545', '16CL021546', '16CL021540']\n",
            "Found 16 images belonging to 16 classes.\n"
          ],
          "name": "stdout"
        },
        {
          "output_type": "stream",
          "text": [
            "Clipping input data to the valid range for imshow with RGB data ([0..1] for floats or [0..255] for integers).\n",
            "Clipping input data to the valid range for imshow with RGB data ([0..1] for floats or [0..255] for integers).\n",
            "Clipping input data to the valid range for imshow with RGB data ([0..1] for floats or [0..255] for integers).\n",
            "Clipping input data to the valid range for imshow with RGB data ([0..1] for floats or [0..255] for integers).\n",
            "Clipping input data to the valid range for imshow with RGB data ([0..1] for floats or [0..255] for integers).\n"
          ],
          "name": "stderr"
        },
        {
          "output_type": "display_data",
          "data": {
            "image/png": "[encoded data removed]",
            "text/plain": [
              "<Figure size 1440x1440 with 5 Axes>"
            ]
          },
          "metadata": {
            "tags": [],
            "needs_background": "light"
          }
        }
      ]
    }
  ]
}